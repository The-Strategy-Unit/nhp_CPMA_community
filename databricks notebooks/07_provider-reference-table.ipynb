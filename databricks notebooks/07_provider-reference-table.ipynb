{
 "cells": [
  {
   "cell_type": "code",
   "execution_count": 0,
   "metadata": {
    "application/vnd.databricks.v1+cell": {
     "cellMetadata": {
      "byteLimit": 2048000,
      "rowLimit": 10000
     },
     "inputWidgets": {},
     "nuid": "637cf783-e78f-45fe-918d-ce01a58887fc",
     "showTitle": false,
     "tableResultSettingsMap": {},
     "title": ""
    }
   },
   "outputs": [],
   "source": [
    "--NOTE: names are from 22/23\n",
    "CREATE OR REPLACE TABLE strategyunit.default.sl_af_providers_reference AS\n",
    "SELECT DISTINCT \n",
    "  a.provider, \n",
    "  b.org_name,\n",
    "  b.org_type,\n",
    "  c.main_icb\n",
    "\n",
    "FROM strategyunit.default.sl_af_describing_mitigators_providers AS a\n",
    "\n",
    "LEFT JOIN strategyunit.reference.ods_trusts AS b\n",
    "  ON a.provider = b.org_code\n",
    "\n",
    "LEFT JOIN nhp.reference.provider_main_icb AS c\n",
    "  on a.provider = c.provider\n",
    "\n",
    "WHERE a.fyear >= 201819"
   ]
  }
 ],
 "metadata": {
  "application/vnd.databricks.v1+notebook": {
   "computePreferences": null,
   "dashboards": [],
   "environmentMetadata": {
    "base_environment": "",
    "environment_version": "2"
   },
   "inputWidgetPreferences": null,
   "language": "sql",
   "notebookMetadata": {
    "mostRecentlyExecutedCommandWithImplicitDF": {
     "commandId": -1,
     "dataframes": [
      "_sqldf"
     ]
    },
    "pythonIndentUnit": 4
   },
   "notebookName": "Provider reference table",
   "widgets": {}
  },
  "language_info": {
   "name": "sql"
  }
 },
 "nbformat": 4,
 "nbformat_minor": 0
}
