{
 "cells": [
  {
   "cell_type": "code",
   "execution_count": 0,
   "metadata": {
    "application/vnd.databricks.v1+cell": {
     "cellMetadata": {
      "byteLimit": 2048000,
      "rowLimit": 10000
     },
     "inputWidgets": {},
     "nuid": "a1d31969-2af7-467c-bfdc-5468defe96d0",
     "showTitle": false,
     "tableResultSettingsMap": {},
     "title": ""
    }
   },
   "outputs": [],
   "source": [
    "# Based on: https://github.com/The-Strategy-Unit/nhp_data/blob/main/reference/provider_catchments.py\n",
    "# Removed filter so not just acute providers\n",
    "\n",
    "from pyspark.sql import DataFrame, SparkSession, Window\n",
    "from pyspark.sql import functions as F\n",
    "\n",
    "def get_provider_catchments(spark: SparkSession) -> DataFrame:\n",
    "    \"\"\"get Provider Catchments\n",
    "    :param spark: The Spark context\n",
    "    :type spark: SparkSession\n",
    "    \"\"\"\n",
    "\n",
    "    total_window = Window.partitionBy(\"fyear\", \"resladst_ons\", \"age\", \"sex\")\n",
    "\n",
    "    providers = (\n",
    "        spark.read.table(\"strategyunit.reference.ods_trusts\")\n",
    "        # .filter(F.col(\"org_type\").startswith(\"ACUTE\"))\n",
    "        .select(\"org_to\")\n",
    "        .distinct()\n",
    "    )\n",
    "\n",
    "    return (\n",
    "        spark.read.table(\"nhp.raw_data.apc\")\n",
    "        .filter(F.col(\"fyear\") >= 201819)\n",
    "        .join(providers, F.col(\"provider\") == F.col(\"org_to\"), \"semi\")\n",
    "        .filter(F.col(\"resladst_ons\").rlike(\"^E0[6-9]\"))\n",
    "        .groupBy(\"fyear\", \"provider\", \"resladst_ons\", \"age\", \"sex\")\n",
    "        .count()\n",
    "        .withColumn(\"pcnt\", F.col(\"count\") / F.sum(\"count\").over(total_window))\n",
    "        .withColumnRenamed(\"resladst_ons\", \"area_code\")\n",
    "    )\n",
    "\n",
    "\n",
    "def create_provider_catchments(spark: SparkSession) -> None:\n",
    "    \"\"\"Create Provider Catchments\n",
    "    :param spark: The Spark context\n",
    "    :type spark: SparkSession\n",
    "    \"\"\"\n",
    "\n",
    "    df = get_provider_catchments(spark)\n",
    "    df.write.mode(\"overwrite\").saveAsTable(\"strategyunit.default.sl_af_provider_populations\")\n",
    "    \n",
    "\n",
    "create_provider_catchments(spark)"
   ]
  }
 ],
 "metadata": {
  "application/vnd.databricks.v1+notebook": {
   "computePreferences": null,
   "dashboards": [],
   "environmentMetadata": {
    "base_environment": "",
    "environment_version": "2"
   },
   "inputWidgetPreferences": null,
   "language": "python",
   "notebookMetadata": {
    "pythonIndentUnit": 4
   },
   "notebookName": "Provider populations",
   "widgets": {}
  },
  "language_info": {
   "name": "python"
  }
 },
 "nbformat": 4,
 "nbformat_minor": 0
}
